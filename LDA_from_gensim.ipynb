{
 "cells": [
  {
   "cell_type": "code",
   "execution_count": 1,
   "metadata": {},
   "outputs": [
    {
     "name": "stdout",
     "output_type": "stream",
     "text": [
      "aba\n",
      "broadcasting\n"
     ]
    }
   ],
   "source": [
    "import numpy as np\n",
    "import pandas as pd\n",
    "import sys\n",
    "import nltk\n",
    "import re\n",
    "import gensim\n",
    "from nltk.corpus import stopwords\n",
    "import matplotlib.pyplot as plt\n",
    "from gensim import corpora,models\n",
    "from gensim.utils import simple_preprocess\n",
    "from nltk.stem import WordNetLemmatizer\n",
    "from sklearn.feature_extraction.text import CountVectorizer\n",
    "from wordcloud import WordCloud \n",
    "\n",
    "data=pd.read_csv('./abcnews-date-text.csv')\n",
    "# take 5000 news as input data\n",
    "data_samples=data['headline_text'][:5000]\n",
    "data=data['headline_text'][:5000]\n",
    "\n",
    "cleanedData = []\n",
    "# print(data)\n",
    "lemma = WordNetLemmatizer()\n",
    "swords = stopwords.words(\"english\")\n",
    "for text in data:\n",
    "    \n",
    "    # Cleaning links\n",
    "    text = re.sub(r'http\\S+', '', text)\n",
    "    \n",
    "    # Cleaning everything except alphabetical and numerical characters\n",
    "    text = re.sub(\"[^a-zA-Z0-9]\",\" \",text)\n",
    "    \n",
    "    # Tokenizing and lemmatizing\n",
    "    text = nltk.word_tokenize(text.lower())\n",
    "    text = [lemma.lemmatize(word) for word in text]\n",
    "    \n",
    "    # Removing stopwords\n",
    "    text = [word for word in text if word not in swords]\n",
    "\n",
    "    \n",
    "    cleanedData.append(text)\n",
    "# print(cleanedData)\n",
    "\n",
    "dictionary = corpora.Dictionary(cleanedData)\n",
    "# print(dictionary)\n",
    "# print(cleanedData)\n",
    "corpus = [dictionary.doc2bow(text) for text in cleanedData]\n",
    "# print(corpus)\n",
    "print(dictionary[0])\n",
    "print(dictionary[1])"
   ]
  },
  {
   "cell_type": "code",
   "execution_count": 14,
   "metadata": {},
   "outputs": [
    {
     "name": "stdout",
     "output_type": "stream",
     "text": [
      "topic is 10\n",
      "Perplexity: -9.484841496158534\n",
      "topic is 20\n",
      "Perplexity: -11.63020825383134\n",
      "topic is 40\n",
      "Perplexity: -14.638394460872304\n",
      "topic is 60\n",
      "Perplexity: -18.87906258944877\n",
      "topic is 80\n",
      "Perplexity: -32.509986882944496\n",
      "topic is 100\n",
      "Perplexity: -84.62794108392701\n",
      "topic is 150\n",
      "Perplexity: -299.24908447265625\n",
      "topic is 200\n",
      "Perplexity: -398.67498779296875\n",
      "topic is 300\n",
      "Perplexity: -597.8613891601562\n",
      "topic is 400\n",
      "Perplexity: -797.2803955078125\n",
      "topic is 500\n",
      "Perplexity: -996.8274536132812\n"
     ]
    }
   ],
   "source": [
    "from pprint import pprint\n",
    "models=[]\n",
    "perplexities=[]\n",
    "topics=[10,20,40,60,80,100,150,200,300,400,500]\n",
    "for topic in topics:\n",
    "    lda_model = gensim.models.ldamodel.LdaModel(corpus=corpus,\n",
    "                                           num_topics=topic,\n",
    "                                           id2word=dictionary)\n",
    "    perplexity=lda_model.log_perplexity(corpus)\n",
    "    print('topic is {}\\nPerplexity: {}'.format(topic,perplexity))\n",
    "    perplexities.append(perplexity)"
   ]
  },
  {
   "cell_type": "code",
   "execution_count": 15,
   "metadata": {},
   "outputs": [
    {
     "data": {
      "image/png": "[encoded data removed]",
      "text/plain": [
       "<Figure size 432x288 with 1 Axes>"
      ]
     },
     "metadata": {
      "needs_background": "light"
     },
     "output_type": "display_data"
    }
   ],
   "source": [
    "plt.plot(topics,perplexities,color=\"red\",linewidth=2)\n",
    "plt.xlabel(\"Number of Topic\")\n",
    "plt.ylabel(\"Perplexity of LDA in gensim\")\n",
    "plt.show()"
   ]
  }
 ],
 "metadata": {
  "kernelspec": {
   "display_name": "Python 3",
   "language": "python",
   "name": "python3"
  },
  "language_info": {
   "codemirror_mode": {
    "name": "ipython",
    "version": 3
   },
   "file_extension": ".py",
   "mimetype": "text/x-python",
   "name": "python",
   "nbconvert_exporter": "python",
   "pygments_lexer": "ipython3",
   "version": "3.7.0"
  }
 },
 "nbformat": 4,
 "nbformat_minor": 2
}
